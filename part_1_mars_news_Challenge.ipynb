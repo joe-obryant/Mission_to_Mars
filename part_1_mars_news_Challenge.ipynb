{
 "cells": [
  {
   "cell_type": "markdown",
   "metadata": {},
   "source": [
    "# Module 12 Challenge\n",
    "## Deliverable 1: Scrape Titles and Preview Text from Mars News"
   ]
  },
  {
   "cell_type": "code",
   "execution_count": 38,
   "metadata": {},
   "outputs": [],
   "source": [
    "# Import Splinter and BeautifulSoup\n",
    "from splinter import Browser\n",
    "from bs4 import BeautifulSoup as soup\n",
    "from webdriver_manager.chrome import ChromeDriverManager"
   ]
  },
  {
   "cell_type": "code",
   "execution_count": 39,
   "metadata": {
    "scrolled": true
   },
   "outputs": [],
   "source": [
    "executable_path = {'executable_path': ChromeDriverManager().install()}\n",
    "browser = Browser('chrome', **executable_path, headless=False)"
   ]
  },
  {
   "cell_type": "markdown",
   "metadata": {},
   "source": [
    "### Step 1: Visit the Website\n",
    "\n",
    "1. Use automated browsing to visit the [Mars NASA news site](https://redplanetscience.com). Inspect the page to identify which elements to scrape.\n",
    "\n",
    "      > **Hint** To identify which elements to scrape, you might want to inspect the page by using Chrome DevTools."
   ]
  },
  {
   "cell_type": "code",
   "execution_count": 40,
   "metadata": {},
   "outputs": [],
   "source": [
    "# Visit the Mars NASA news site: https://redplanetscience.com\n",
    "url = \"https://redplanetscience.com\"\n",
    "browser.visit(url)"
   ]
  },
  {
   "cell_type": "markdown",
   "metadata": {},
   "source": [
    "### Step 2: Scrape the Website\n",
    "\n",
    "Create a Beautiful Soup object and use it to extract text elements from the website."
   ]
  },
  {
   "cell_type": "code",
   "execution_count": 41,
   "metadata": {},
   "outputs": [],
   "source": [
    "# Create a Beautiful Soup object\n",
    "html = browser.html\n",
    "mars_soup = soup(html, 'html.parser')"
   ]
  },
  {
   "cell_type": "code",
   "execution_count": 42,
   "metadata": {},
   "outputs": [
    {
     "data": {
      "text/plain": [
       "[<div class=\"list_text\">\n",
       " <div class=\"list_date\">January 11, 2023</div>\n",
       " <div class=\"content_title\">The Detective Aboard NASA's Perseverance Rover</div>\n",
       " <div class=\"article_teaser_body\">An instrument called SHERLOC will, with the help of its partner WATSON, hunt for signs of ancient life by detecting organic molecules and minerals.</div>\n",
       " </div>,\n",
       " <div class=\"list_text\">\n",
       " <div class=\"list_date\">January 10, 2023</div>\n",
       " <div class=\"content_title\">NASA's MAVEN Observes Martian Night Sky Pulsing in Ultraviolet Light</div>\n",
       " <div class=\"article_teaser_body\">Vast areas of the Martian night sky pulse in ultraviolet light, according to images from NASA’s MAVEN spacecraft. The results are being used to illuminate complex circulation patterns in the Martian atmosphere.</div>\n",
       " </div>,\n",
       " <div class=\"list_text\">\n",
       " <div class=\"list_date\">January 9, 2023</div>\n",
       " <div class=\"content_title\">NASA Prepares for Moon and Mars With New Addition to Its Deep Space Network</div>\n",
       " <div class=\"article_teaser_body\">Robotic spacecraft will be able to communicate with the dish using radio waves and lasers.</div>\n",
       " </div>,\n",
       " <div class=\"list_text\">\n",
       " <div class=\"list_date\">January 5, 2023</div>\n",
       " <div class=\"content_title\">NASA Invites Students to Name Mars 2020 Rover</div>\n",
       " <div class=\"article_teaser_body\">Through Nov. 1, K-12 students in the U.S. are encouraged to enter an essay contest to name NASA's next Mars rover.</div>\n",
       " </div>,\n",
       " <div class=\"list_text\">\n",
       " <div class=\"list_date\">January 3, 2023</div>\n",
       " <div class=\"content_title\">MOXIE Could Help Future Rockets Launch Off Mars</div>\n",
       " <div class=\"article_teaser_body\">NASA's Perseverance rover carries a device to convert Martian air into oxygen that, if produced on a larger scale, could be used not just for breathing, but also for fuel.</div>\n",
       " </div>,\n",
       " <div class=\"list_text\">\n",
       " <div class=\"list_date\">December 31, 2022</div>\n",
       " <div class=\"content_title\">A Year of Surprising Science From NASA's InSight Mars Mission</div>\n",
       " <div class=\"article_teaser_body\">A batch of new papers summarizes the lander's findings above and below the surface of the Red Planet.</div>\n",
       " </div>,\n",
       " <div class=\"list_text\">\n",
       " <div class=\"list_date\">December 25, 2022</div>\n",
       " <div class=\"content_title\">NASA's New Mars Rover Will Use X-Rays to Hunt Fossils</div>\n",
       " <div class=\"article_teaser_body\">PIXL, an instrument on the end of the Perseverance rover's arm, will search for chemical fingerprints left by ancient microbes.</div>\n",
       " </div>,\n",
       " <div class=\"list_text\">\n",
       " <div class=\"list_date\">December 25, 2022</div>\n",
       " <div class=\"content_title\">Independent Review Indicates NASA Prepared for Mars Sample Return Campaign</div>\n",
       " <div class=\"article_teaser_body\">NASA released an independent review report Tuesday indicating the agency is well positioned for its Mars Sample Return campaign to bring pristine samples from Mars to Earth for scientific study.</div>\n",
       " </div>,\n",
       " <div class=\"list_text\">\n",
       " <div class=\"list_date\">December 25, 2022</div>\n",
       " <div class=\"content_title\">NASA Moves Forward With Campaign to Return Mars Samples to Earth</div>\n",
       " <div class=\"article_teaser_body\">During this next phase, the program will mature critical technologies and make critical design decisions as well as assess industry partnerships.</div>\n",
       " </div>,\n",
       " <div class=\"list_text\">\n",
       " <div class=\"list_date\">December 19, 2022</div>\n",
       " <div class=\"content_title\">Two Rovers to Roll on Mars Again: Curiosity and Mars 2020</div>\n",
       " <div class=\"article_teaser_body\">They look like twins. But under the hood, the rover currently exploring the Red Planet and the one launching there this summer have distinct science tools and roles to play.</div>\n",
       " </div>,\n",
       " <div class=\"list_text\">\n",
       " <div class=\"list_date\">December 18, 2022</div>\n",
       " <div class=\"content_title\">NASA to Broadcast Mars 2020 Perseverance Launch, Prelaunch Activities</div>\n",
       " <div class=\"article_teaser_body\">Starting July 27, news activities will cover everything from mission engineering and science to returning samples from Mars to, of course, the launch itself.</div>\n",
       " </div>,\n",
       " <div class=\"list_text\">\n",
       " <div class=\"list_date\">December 17, 2022</div>\n",
       " <div class=\"content_title\">NASA's Mars 2020 Comes Full Circle</div>\n",
       " <div class=\"article_teaser_body\">Aiming to pinpoint the Martian vehicle's center of gravity, engineers took NASA's 2,300-pound Mars 2020 rover for a spin in the clean room at JPL. </div>\n",
       " </div>,\n",
       " <div class=\"list_text\">\n",
       " <div class=\"list_date\">December 15, 2022</div>\n",
       " <div class=\"content_title\">The Launch Is Approaching for NASA's Next Mars Rover, Perseverance</div>\n",
       " <div class=\"article_teaser_body\">The Red Planet's surface has been visited by eight NASA spacecraft. The ninth will be the first that includes a roundtrip ticket in its flight plan. </div>\n",
       " </div>,\n",
       " <div class=\"list_text\">\n",
       " <div class=\"list_date\">December 15, 2022</div>\n",
       " <div class=\"content_title\">NASA's InSight 'Hears' Peculiar Sounds on Mars</div>\n",
       " <div class=\"article_teaser_body\">Listen to the marsquakes and other, less-expected sounds that the Mars lander has been detecting.</div>\n",
       " </div>,\n",
       " <div class=\"list_text\">\n",
       " <div class=\"list_date\">December 12, 2022</div>\n",
       " <div class=\"content_title\">NASA's New Mars Rover Is Ready for Space Lasers</div>\n",
       " <div class=\"article_teaser_body\">Perseverance is one of a few Mars spacecraft carrying laser retroreflectors. The devices could provide new science and safer Mars landings in the future.</div>\n",
       " </div>]"
      ]
     },
     "execution_count": 42,
     "metadata": {},
     "output_type": "execute_result"
    }
   ],
   "source": [
    "# Extract all the text elements\n",
    "mars_text = mars_soup.find_all('div', class_= 'list_text')\n",
    "mars_text"
   ]
  },
  {
   "cell_type": "markdown",
   "metadata": {},
   "source": [
    "### Step 3: Store the Results\n",
    "\n",
    "Extract the titles and preview text of the news articles that you scraped. Store the scraping results in Python data structures as follows:\n",
    "\n",
    "* Store each title-and-preview pair in a Python dictionary. And, give each dictionary two keys: `title` and `preview`. An example is the following:\n",
    "\n",
    "  ```python\n",
    "  {'title': \"Mars Rover Begins Mission!\", \n",
    "        'preview': \"NASA's Mars Rover begins a multiyear mission to collect data about the little-explored planet.\"}\n",
    "  ```\n",
    "\n",
    "* Store all the dictionaries in a Python list.\n",
    "\n",
    "* Print the list in your notebook."
   ]
  },
  {
   "cell_type": "code",
   "execution_count": 43,
   "metadata": {},
   "outputs": [],
   "source": [
    "# Create an empty list to store the dictionaries\n",
    "mars_dict = []"
   ]
  },
  {
   "cell_type": "code",
   "execution_count": 46,
   "metadata": {},
   "outputs": [],
   "source": [
    "# Loop through the text elements\n",
    "# Extract the title and preview text from the elements\n",
    "# Store each title and preview pair in a dictionary\n",
    "# Add the dictionary to the list\n",
    "for value in mars_text:\n",
    "    text_dict = {}\n",
    "    title = value.find('div',class_=\"content_title\").text\n",
    "    preview = value.find('div',class_=\"article_teaser_body\").text\n",
    "    list_dict = {'title':title, 'preview':preview}\n",
    "    mars_dict.append(list_dict)"
   ]
  },
  {
   "cell_type": "code",
   "execution_count": 48,
   "metadata": {},
   "outputs": [
    {
     "data": {
      "text/plain": [
       "[{'title': \"The Detective Aboard NASA's Perseverance Rover\",\n",
       "  'preview': 'An instrument called SHERLOC will, with the help of its partner WATSON, hunt for signs of ancient life by detecting organic molecules and minerals.'},\n",
       " {'title': \"NASA's MAVEN Observes Martian Night Sky Pulsing in Ultraviolet Light\",\n",
       "  'preview': 'Vast areas of the Martian night sky pulse in ultraviolet light, according to images from NASA’s MAVEN spacecraft. The results are being used to illuminate complex circulation patterns in the Martian atmosphere.'},\n",
       " {'title': 'NASA Prepares for Moon and Mars With New Addition to Its Deep Space Network',\n",
       "  'preview': 'Robotic spacecraft will be able to communicate with the dish using radio waves and lasers.'},\n",
       " {'title': 'NASA Invites Students to Name Mars 2020 Rover',\n",
       "  'preview': \"Through Nov. 1, K-12 students in the U.S. are encouraged to enter an essay contest to name NASA's next Mars rover.\"},\n",
       " {'title': 'MOXIE Could Help Future Rockets Launch Off Mars',\n",
       "  'preview': \"NASA's Perseverance rover carries a device to convert Martian air into oxygen that, if produced on a larger scale, could be used not just for breathing, but also for fuel.\"},\n",
       " {'title': \"A Year of Surprising Science From NASA's InSight Mars Mission\",\n",
       "  'preview': \"A batch of new papers summarizes the lander's findings above and below the surface of the Red Planet.\"},\n",
       " {'title': \"NASA's New Mars Rover Will Use X-Rays to Hunt Fossils\",\n",
       "  'preview': \"PIXL, an instrument on the end of the Perseverance rover's arm, will search for chemical fingerprints left by ancient microbes.\"},\n",
       " {'title': 'Independent Review Indicates NASA Prepared for Mars Sample Return Campaign',\n",
       "  'preview': 'NASA released an independent review report Tuesday indicating the agency is well positioned for its Mars Sample Return campaign to bring pristine samples from Mars to Earth for scientific study.'},\n",
       " {'title': 'NASA Moves Forward With Campaign to Return Mars Samples to Earth',\n",
       "  'preview': 'During this next phase, the program will mature critical technologies and make critical design decisions as well as assess industry partnerships.'},\n",
       " {'title': 'Two Rovers to Roll on Mars Again: Curiosity and Mars 2020',\n",
       "  'preview': 'They look like twins. But under the hood, the rover currently exploring the Red Planet and the one launching there this summer have distinct science tools and roles to play.'},\n",
       " {'title': 'NASA to Broadcast Mars 2020 Perseverance Launch, Prelaunch Activities',\n",
       "  'preview': 'Starting July 27, news activities will cover everything from mission engineering and science to returning samples from Mars to, of course, the launch itself.'},\n",
       " {'title': \"NASA's Mars 2020 Comes Full Circle\",\n",
       "  'preview': \"Aiming to pinpoint the Martian vehicle's center of gravity, engineers took NASA's 2,300-pound Mars 2020 rover for a spin in the clean room at JPL. \"},\n",
       " {'title': \"The Launch Is Approaching for NASA's Next Mars Rover, Perseverance\",\n",
       "  'preview': \"The Red Planet's surface has been visited by eight NASA spacecraft. The ninth will be the first that includes a roundtrip ticket in its flight plan. \"},\n",
       " {'title': \"NASA's InSight 'Hears' Peculiar Sounds on Mars\",\n",
       "  'preview': 'Listen to the marsquakes and other, less-expected sounds that the Mars lander has been detecting.'},\n",
       " {'title': \"NASA's New Mars Rover Is Ready for Space Lasers\",\n",
       "  'preview': 'Perseverance is one of a few Mars spacecraft carrying laser retroreflectors. The devices could provide new science and safer Mars landings in the future.'}]"
      ]
     },
     "execution_count": 48,
     "metadata": {},
     "output_type": "execute_result"
    }
   ],
   "source": [
    "# Print the list to confirm success\n",
    "mars_dict"
   ]
  },
  {
   "cell_type": "code",
   "execution_count": 49,
   "metadata": {},
   "outputs": [],
   "source": [
    "browser.quit()"
   ]
  },
  {
   "cell_type": "markdown",
   "metadata": {},
   "source": [
    "### (Optional) Step 4: Export the Data\n",
    "\n",
    "Optionally, store the scraped data in a file or database (to ease sharing the data with others). To do so, export the scraped data to either a JSON file or a MongoDB database."
   ]
  },
  {
   "cell_type": "code",
   "execution_count": null,
   "metadata": {},
   "outputs": [],
   "source": [
    "# Export data to JSON\n"
   ]
  },
  {
   "cell_type": "code",
   "execution_count": null,
   "metadata": {},
   "outputs": [],
   "source": [
    "# Export data to MongoDB\n"
   ]
  }
 ],
 "metadata": {
  "kernelspec": {
   "display_name": "Python 3 (ipykernel)",
   "language": "python",
   "name": "python3"
  },
  "language_info": {
   "codemirror_mode": {
    "name": "ipython",
    "version": 3
   },
   "file_extension": ".py",
   "mimetype": "text/x-python",
   "name": "python",
   "nbconvert_exporter": "python",
   "pygments_lexer": "ipython3",
   "version": "3.7.13"
  }
 },
 "nbformat": 4,
 "nbformat_minor": 4
}
